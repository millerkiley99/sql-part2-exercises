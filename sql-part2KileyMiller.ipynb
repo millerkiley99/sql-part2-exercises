{
    "metadata": {
        "kernelspec": {
            "name": "SQL",
            "display_name": "SQL",
            "language": "sql"
        },
        "language_info": {
            "name": "sql",
            "version": ""
        }
    },
    "nbformat_minor": 2,
    "nbformat": 4,
    "cells": [
        {
            "cell_type": "markdown",
            "source": [
                "# Exercises\n",
                "\n",
                "To get started with the exercises, go ahead and take a look at RideShareDB. This database was created with data from a dataset on [Kaggle](https://www.kaggle.com/fivethirtyeight/uber-pickups-in-new-york-city). The dataset was made using data obtained from the NYC Taxi and Limosine Commission or TLC. TLC tracks this data by base and even rideshare companies such as Uber and Lyft have assigned bases that each pickup must be attributed to. For the exercises, we will be using the `other-FHV-services-jan-july15` and `lyft` tables in RideShareDB. These tables include the data for each pickup attributed to a few other For-Hire Vehicles (FHV) services and Lyft. These tables do not include any data from Uber.\n",
                "\n",
                "## String Functions\n",
                "\n",
                "Write a query that returns the last 3 characters of the base name in `other-FHV-services-jan-july15`. Do you see anything that is a common abbreviation at the end of business names?"
            ],
            "metadata": {
                "azdata_cell_guid": "2b5a5976-8b51-4e24-a08d-234ef97f379a"
            },
            "attachments": {}
        },
        {
            "cell_type": "code",
            "source": [
                "SELECT TOP 5 * \n",
                "FROM RideShareDB.dbo.other_FHV_services_jan_aug_2015 "
            ],
            "metadata": {
                "azdata_cell_guid": "3dd5120b-6202-4dbe-973f-2c537191d978",
                "language": "sql"
            },
            "outputs": [
                {
                    "output_type": "display_data",
                    "data": {
                        "text/html": "(5 rows affected)"
                    },
                    "metadata": {}
                },
                {
                    "output_type": "display_data",
                    "data": {
                        "text/html": "Total execution time: 00:00:00.051"
                    },
                    "metadata": {}
                },
                {
                    "output_type": "execute_result",
                    "metadata": {},
                    "execution_count": 1,
                    "data": {
                        "application/vnd.dataresource+json": {
                            "schema": {
                                "fields": [
                                    {
                                        "name": "Base_Number"
                                    },
                                    {
                                        "name": "Base_Name"
                                    },
                                    {
                                        "name": "Pick_Up_Date"
                                    },
                                    {
                                        "name": "Number_of_Trips"
                                    },
                                    {
                                        "name": "Number_of_Vehicles"
                                    }
                                ]
                            },
                            "data": [
                                {
                                    "0": "B00013",
                                    "1": "LOVE CORP CAR INC",
                                    "2": "2015-01-01",
                                    "3": "26 ",
                                    "4": "17 "
                                },
                                {
                                    "0": "B00014",
                                    "1": "NY ONE CORP CAR INC",
                                    "2": "2015-01-01",
                                    "3": "45 ",
                                    "4": "24 "
                                },
                                {
                                    "0": "B00029",
                                    "1": "COMMUNITY CAR SVC CORP",
                                    "2": "2015-01-01",
                                    "3": "731 ",
                                    "4": "36 "
                                },
                                {
                                    "0": "B00053",
                                    "1": "CHARGE AND RIDE INC",
                                    "2": "2015-01-01",
                                    "3": "10 ",
                                    "4": "9 "
                                },
                                {
                                    "0": "B00095",
                                    "1": "LIBERTY CAR SERVICE INC.",
                                    "2": "2015-01-01",
                                    "3": "814 ",
                                    "4": "62 "
                                }
                            ]
                        },
                        "text/html": [
                            "<table>",
                            "<tr><th>Base_Number</th><th>Base_Name</th><th>Pick_Up_Date</th><th>Number_of_Trips</th><th>Number_of_Vehicles</th></tr>",
                            "<tr><td>B00013</td><td>LOVE CORP CAR INC</td><td>2015-01-01</td><td>26 </td><td>17 </td></tr>",
                            "<tr><td>B00014</td><td>NY ONE CORP CAR INC</td><td>2015-01-01</td><td>45 </td><td>24 </td></tr>",
                            "<tr><td>B00029</td><td>COMMUNITY CAR SVC CORP</td><td>2015-01-01</td><td>731 </td><td>36 </td></tr>",
                            "<tr><td>B00053</td><td>CHARGE AND RIDE INC</td><td>2015-01-01</td><td>10 </td><td>9 </td></tr>",
                            "<tr><td>B00095</td><td>LIBERTY CAR SERVICE INC.</td><td>2015-01-01</td><td>814 </td><td>62 </td></tr>",
                            "</table>"
                        ]
                    }
                }
            ],
            "execution_count": 1
        },
        {
            "cell_type": "code",
            "source": [
                "SELECT TOP 10 RIGHT(\"Base_Name\", 3) AS \"Last 3 Characters Base_Name\"\n",
                "FROM RideShareDB.dbo.other_FHV_services_jan_aug_2015"
            ],
            "metadata": {
                "azdata_cell_guid": "392f7b72-9acf-44a4-bb53-6c29090c5d75",
                "tags": [],
                "language": "sql"
            },
            "outputs": [
                {
                    "output_type": "display_data",
                    "data": {
                        "text/html": "(10 rows affected)"
                    },
                    "metadata": {}
                },
                {
                    "output_type": "display_data",
                    "data": {
                        "text/html": "Total execution time: 00:00:00.053"
                    },
                    "metadata": {}
                },
                {
                    "output_type": "execute_result",
                    "metadata": {},
                    "execution_count": 2,
                    "data": {
                        "application/vnd.dataresource+json": {
                            "schema": {
                                "fields": [
                                    {
                                        "name": "Last 3 Characters Base_Name"
                                    }
                                ]
                            },
                            "data": [
                                {
                                    "0": "INC"
                                },
                                {
                                    "0": "INC"
                                },
                                {
                                    "0": "ORP"
                                },
                                {
                                    "0": "INC"
                                },
                                {
                                    "0": "NC."
                                },
                                {
                                    "0": "INC"
                                },
                                {
                                    "0": "NC."
                                },
                                {
                                    "0": "NC."
                                },
                                {
                                    "0": "DIO"
                                },
                                {
                                    "0": "RP."
                                }
                            ]
                        },
                        "text/html": [
                            "<table>",
                            "<tr><th>Last 3 Characters Base_Name</th></tr>",
                            "<tr><td>INC</td></tr>",
                            "<tr><td>INC</td></tr>",
                            "<tr><td>ORP</td></tr>",
                            "<tr><td>INC</td></tr>",
                            "<tr><td>NC.</td></tr>",
                            "<tr><td>INC</td></tr>",
                            "<tr><td>NC.</td></tr>",
                            "<tr><td>NC.</td></tr>",
                            "<tr><td>DIO</td></tr>",
                            "<tr><td>RP.</td></tr>",
                            "</table>"
                        ]
                    }
                }
            ],
            "execution_count": 2
        },
        {
            "cell_type": "markdown",
            "source": [
                "The number of trips and the number of pickups are both stored as strings in `other-FHV-services-jan-july15`. This is because the data provided included spaces in some of the numbers. Write a query that returns the location of spaces in both of these columns."
            ],
            "metadata": {
                "azdata_cell_guid": "6c206898-77f4-4357-8d17-33192980f45d"
            },
            "attachments": {}
        },
        {
            "cell_type": "code",
            "source": [
                "SELECT TOP 10 [Number_of_Trips], \n",
                "    CHARINDEX(' ', Number_of_Trips) AS \"Position of Space\"\n",
                "FROM RideShareDB.dbo.other_FHV_services_jan_aug_2015"
            ],
            "metadata": {
                "azdata_cell_guid": "3c810c3d-4e66-447b-8326-19e59d8a1b88",
                "language": "sql"
            },
            "outputs": [
                {
                    "output_type": "display_data",
                    "data": {
                        "text/html": "(10 rows affected)"
                    },
                    "metadata": {}
                },
                {
                    "output_type": "display_data",
                    "data": {
                        "text/html": "Total execution time: 00:00:00.051"
                    },
                    "metadata": {}
                },
                {
                    "output_type": "execute_result",
                    "metadata": {},
                    "execution_count": 3,
                    "data": {
                        "application/vnd.dataresource+json": {
                            "schema": {
                                "fields": [
                                    {
                                        "name": "Number_of_Trips"
                                    },
                                    {
                                        "name": "Position of Space"
                                    }
                                ]
                            },
                            "data": [
                                {
                                    "0": "26 ",
                                    "1": "3"
                                },
                                {
                                    "0": "45 ",
                                    "1": "3"
                                },
                                {
                                    "0": "731 ",
                                    "1": "4"
                                },
                                {
                                    "0": "10 ",
                                    "1": "3"
                                },
                                {
                                    "0": "814 ",
                                    "1": "4"
                                },
                                {
                                    "0": "220 ",
                                    "1": "4"
                                },
                                {
                                    "0": "36 ",
                                    "1": "3"
                                },
                                {
                                    "0": " 1,137 ",
                                    "1": "1"
                                },
                                {
                                    "0": "236 ",
                                    "1": "4"
                                },
                                {
                                    "0": "47 ",
                                    "1": "3"
                                }
                            ]
                        },
                        "text/html": [
                            "<table>",
                            "<tr><th>Number_of_Trips</th><th>Position of Space</th></tr>",
                            "<tr><td>26 </td><td>3</td></tr>",
                            "<tr><td>45 </td><td>3</td></tr>",
                            "<tr><td>731 </td><td>4</td></tr>",
                            "<tr><td>10 </td><td>3</td></tr>",
                            "<tr><td>814 </td><td>4</td></tr>",
                            "<tr><td>220 </td><td>4</td></tr>",
                            "<tr><td>36 </td><td>3</td></tr>",
                            "<tr><td> 1,137 </td><td>1</td></tr>",
                            "<tr><td>236 </td><td>4</td></tr>",
                            "<tr><td>47 </td><td>3</td></tr>",
                            "</table>"
                        ]
                    }
                }
            ],
            "execution_count": 3
        },
        {
            "cell_type": "markdown",
            "source": [
                "## Date Functions\n",
                "\n",
                "For ``other-FHV-services-jan-july15``, display the name of month of the pickup date and order in descending order. Is the result of this query what you expected?"
            ],
            "metadata": {
                "azdata_cell_guid": "b138ac53-9fff-4320-9ff1-08717873f2ee"
            },
            "attachments": {}
        },
        {
            "cell_type": "code",
            "source": [
                "SELECT TOP 10\n",
                "    DATENAME(month, GETDATE()) AS 'Month Name'\n",
                "    FROM RideShareDB.dbo.other_FHV_services_jan_aug_2015\n",
                "ORDER BY [Month Name] DESC"
            ],
            "metadata": {
                "azdata_cell_guid": "8abd404c-a360-4b10-8d6b-8b34ef763bc7",
                "tags": [],
                "language": "sql"
            },
            "outputs": [
                {
                    "output_type": "display_data",
                    "data": {
                        "text/html": "(10 rows affected)"
                    },
                    "metadata": {}
                },
                {
                    "output_type": "display_data",
                    "data": {
                        "text/html": "Total execution time: 00:00:00.050"
                    },
                    "metadata": {}
                },
                {
                    "output_type": "execute_result",
                    "metadata": {},
                    "execution_count": 4,
                    "data": {
                        "application/vnd.dataresource+json": {
                            "schema": {
                                "fields": [
                                    {
                                        "name": "Month Name"
                                    }
                                ]
                            },
                            "data": [
                                {
                                    "0": "December"
                                },
                                {
                                    "0": "December"
                                },
                                {
                                    "0": "December"
                                },
                                {
                                    "0": "December"
                                },
                                {
                                    "0": "December"
                                },
                                {
                                    "0": "December"
                                },
                                {
                                    "0": "December"
                                },
                                {
                                    "0": "December"
                                },
                                {
                                    "0": "December"
                                },
                                {
                                    "0": "December"
                                }
                            ]
                        },
                        "text/html": [
                            "<table>",
                            "<tr><th>Month Name</th></tr>",
                            "<tr><td>December</td></tr>",
                            "<tr><td>December</td></tr>",
                            "<tr><td>December</td></tr>",
                            "<tr><td>December</td></tr>",
                            "<tr><td>December</td></tr>",
                            "<tr><td>December</td></tr>",
                            "<tr><td>December</td></tr>",
                            "<tr><td>December</td></tr>",
                            "<tr><td>December</td></tr>",
                            "<tr><td>December</td></tr>",
                            "</table>"
                        ]
                    }
                }
            ],
            "execution_count": 4
        },
        {
            "cell_type": "markdown",
            "source": [
                "Using `other-FHV-services-jan-july15`, write a query that returns the day number of the pickup date and month name and orders it in ascending order by day number."
            ],
            "metadata": {
                "azdata_cell_guid": "aa6bf15c-b847-45f0-ba0d-79c7636c4578"
            },
            "attachments": {}
        },
        {
            "cell_type": "code",
            "source": [
                "SELECT TOP 10\n",
                "    DATENAME(day, GETDATE()) AS \"Day\",\n",
                "    DATENAME(month, GETDATE()) AS 'Month'\n",
                "    FROM RideShareDB.dbo.other_FHV_services_jan_aug_2015\n",
                "ORDER BY [Day], [Month] ASC"
            ],
            "metadata": {
                "azdata_cell_guid": "46dcd617-8dcf-4c15-b5fa-c0ec04f2bf29",
                "language": "sql"
            },
            "outputs": [
                {
                    "output_type": "display_data",
                    "data": {
                        "text/html": "(10 rows affected)"
                    },
                    "metadata": {}
                },
                {
                    "output_type": "display_data",
                    "data": {
                        "text/html": "Total execution time: 00:00:00.049"
                    },
                    "metadata": {}
                },
                {
                    "output_type": "execute_result",
                    "metadata": {},
                    "execution_count": 5,
                    "data": {
                        "application/vnd.dataresource+json": {
                            "schema": {
                                "fields": [
                                    {
                                        "name": "Day"
                                    },
                                    {
                                        "name": "Month"
                                    }
                                ]
                            },
                            "data": [
                                {
                                    "0": "6",
                                    "1": "December"
                                },
                                {
                                    "0": "6",
                                    "1": "December"
                                },
                                {
                                    "0": "6",
                                    "1": "December"
                                },
                                {
                                    "0": "6",
                                    "1": "December"
                                },
                                {
                                    "0": "6",
                                    "1": "December"
                                },
                                {
                                    "0": "6",
                                    "1": "December"
                                },
                                {
                                    "0": "6",
                                    "1": "December"
                                },
                                {
                                    "0": "6",
                                    "1": "December"
                                },
                                {
                                    "0": "6",
                                    "1": "December"
                                },
                                {
                                    "0": "6",
                                    "1": "December"
                                }
                            ]
                        },
                        "text/html": [
                            "<table>",
                            "<tr><th>Day</th><th>Month</th></tr>",
                            "<tr><td>6</td><td>December</td></tr>",
                            "<tr><td>6</td><td>December</td></tr>",
                            "<tr><td>6</td><td>December</td></tr>",
                            "<tr><td>6</td><td>December</td></tr>",
                            "<tr><td>6</td><td>December</td></tr>",
                            "<tr><td>6</td><td>December</td></tr>",
                            "<tr><td>6</td><td>December</td></tr>",
                            "<tr><td>6</td><td>December</td></tr>",
                            "<tr><td>6</td><td>December</td></tr>",
                            "<tr><td>6</td><td>December</td></tr>",
                            "</table>"
                        ]
                    }
                }
            ],
            "execution_count": 5
        },
        {
            "cell_type": "markdown",
            "source": [
                "## Aggregate Functions\n",
                "\n",
                "Write a query that returns the most easterly Lyft pickup."
            ],
            "metadata": {
                "azdata_cell_guid": "348342a2-6039-43b1-8461-841288deee94"
            },
            "attachments": {}
        },
        {
            "cell_type": "code",
            "source": [
                "SELECT TOP 5 *\n",
                "FROM RideShareDB.dbo.lyft"
            ],
            "metadata": {
                "azdata_cell_guid": "f2cb1b41-c92a-47ea-bd77-7bafd78af1d4",
                "tags": [],
                "language": "sql"
            },
            "outputs": [
                {
                    "output_type": "display_data",
                    "data": {
                        "text/html": "(5 rows affected)"
                    },
                    "metadata": {}
                },
                {
                    "output_type": "display_data",
                    "data": {
                        "text/html": "Total execution time: 00:00:00.050"
                    },
                    "metadata": {}
                },
                {
                    "output_type": "execute_result",
                    "metadata": {},
                    "execution_count": 6,
                    "data": {
                        "application/vnd.dataresource+json": {
                            "schema": {
                                "fields": [
                                    {
                                        "name": "time_of_trip"
                                    },
                                    {
                                        "name": "start_lat"
                                    },
                                    {
                                        "name": "start_lng"
                                    }
                                ]
                            },
                            "data": [
                                {
                                    "0": "2014-09-04 09:51:00.0000000",
                                    "1": "40.64705",
                                    "2": "-73.77988"
                                },
                                {
                                    "0": "2014-08-27 21:13:00.0000000",
                                    "1": "40.74916",
                                    "2": "-73.98373"
                                },
                                {
                                    "0": "2014-09-04 14:16:00.0000000",
                                    "1": "40.64065",
                                    "2": "-73.97594"
                                },
                                {
                                    "0": "2014-09-04 16:08:00.0000000",
                                    "1": "40.75002",
                                    "2": "-73.99514"
                                },
                                {
                                    "0": "2014-08-28 02:41:00.0000000",
                                    "1": "40.76715",
                                    "2": "-73.98636"
                                }
                            ]
                        },
                        "text/html": [
                            "<table>",
                            "<tr><th>time_of_trip</th><th>start_lat</th><th>start_lng</th></tr>",
                            "<tr><td>2014-09-04 09:51:00.0000000</td><td>40.64705</td><td>-73.77988</td></tr>",
                            "<tr><td>2014-08-27 21:13:00.0000000</td><td>40.74916</td><td>-73.98373</td></tr>",
                            "<tr><td>2014-09-04 14:16:00.0000000</td><td>40.64065</td><td>-73.97594</td></tr>",
                            "<tr><td>2014-09-04 16:08:00.0000000</td><td>40.75002</td><td>-73.99514</td></tr>",
                            "<tr><td>2014-08-28 02:41:00.0000000</td><td>40.76715</td><td>-73.98636</td></tr>",
                            "</table>"
                        ]
                    }
                }
            ],
            "execution_count": 6
        },
        {
            "cell_type": "markdown",
            "source": [
                "Write a query the returns the most northerly Lyft pickup."
            ],
            "metadata": {
                "azdata_cell_guid": "bd589862-044d-4909-8565-8aa4771d9c00"
            },
            "attachments": {}
        },
        {
            "cell_type": "code",
            "source": [
                "SELECT MIN(start_lat) AS 'Most Easterly Pickup'\n",
                "FROM RideShareDB.dbo.lyft"
            ],
            "metadata": {
                "azdata_cell_guid": "189b7c25-0dfa-4ca0-a683-d402b3875abd",
                "language": "sql"
            },
            "outputs": [
                {
                    "output_type": "display_data",
                    "data": {
                        "text/html": "Warning: Null value is eliminated by an aggregate or other SET operation."
                    },
                    "metadata": {}
                },
                {
                    "output_type": "display_data",
                    "data": {
                        "text/html": "(1 row affected)"
                    },
                    "metadata": {}
                },
                {
                    "output_type": "display_data",
                    "data": {
                        "text/html": "Total execution time: 00:00:00.076"
                    },
                    "metadata": {}
                },
                {
                    "output_type": "execute_result",
                    "metadata": {},
                    "execution_count": 7,
                    "data": {
                        "application/vnd.dataresource+json": {
                            "schema": {
                                "fields": [
                                    {
                                        "name": "Most Easterly Pickup"
                                    }
                                ]
                            },
                            "data": [
                                {
                                    "0": "40.52785"
                                }
                            ]
                        },
                        "text/html": [
                            "<table>",
                            "<tr><th>Most Easterly Pickup</th></tr>",
                            "<tr><td>40.52785</td></tr>",
                            "</table>"
                        ]
                    }
                }
            ],
            "execution_count": 7
        },
        {
            "cell_type": "markdown",
            "source": [
                "Using ``other-FHV-services-jan-july15``, write a query that connects the the base number and the base name in a string that uses the following format: base\\_number: base\\_name."
            ],
            "metadata": {
                "azdata_cell_guid": "674f8758-14bf-4712-b029-0ad0447617fb"
            },
            "attachments": {}
        },
        {
            "cell_type": "code",
            "source": [
                "SELECT TOP 5\n",
                "    CONCAT_WS( ': ', base_number, base_name) AS 'Base Number and Name'\n",
                "FROM RideShareDB.dbo.other_FHV_services_jan_aug_2015"
            ],
            "metadata": {
                "azdata_cell_guid": "f6f4b247-63c0-4997-8769-204e37a55c08",
                "language": "sql"
            },
            "outputs": [
                {
                    "output_type": "display_data",
                    "data": {
                        "text/html": "(5 rows affected)"
                    },
                    "metadata": {}
                },
                {
                    "output_type": "display_data",
                    "data": {
                        "text/html": "Total execution time: 00:00:00.051"
                    },
                    "metadata": {}
                },
                {
                    "output_type": "execute_result",
                    "metadata": {},
                    "execution_count": 8,
                    "data": {
                        "application/vnd.dataresource+json": {
                            "schema": {
                                "fields": [
                                    {
                                        "name": "Base Number and Name"
                                    }
                                ]
                            },
                            "data": [
                                {
                                    "0": "B00013: LOVE CORP CAR INC"
                                },
                                {
                                    "0": "B00014: NY ONE CORP CAR INC"
                                },
                                {
                                    "0": "B00029: COMMUNITY CAR SVC CORP"
                                },
                                {
                                    "0": "B00053: CHARGE AND RIDE INC"
                                },
                                {
                                    "0": "B00095: LIBERTY CAR SERVICE INC."
                                }
                            ]
                        },
                        "text/html": [
                            "<table>",
                            "<tr><th>Base Number and Name</th></tr>",
                            "<tr><td>B00013: LOVE CORP CAR INC</td></tr>",
                            "<tr><td>B00014: NY ONE CORP CAR INC</td></tr>",
                            "<tr><td>B00029: COMMUNITY CAR SVC CORP</td></tr>",
                            "<tr><td>B00053: CHARGE AND RIDE INC</td></tr>",
                            "<tr><td>B00095: LIBERTY CAR SERVICE INC.</td></tr>",
                            "</table>"
                        ]
                    }
                }
            ],
            "execution_count": 8
        }
    ]
}